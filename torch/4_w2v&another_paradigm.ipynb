{
 "cells": [
  {
   "cell_type": "code",
   "execution_count": 1,
   "id": "arabic-webster",
   "metadata": {},
   "outputs": [],
   "source": [
    "import torch \n",
    "from torch.autograd import Variable \n",
    "import numpy as np\n",
    "import torch.functional as F\n",
    "import torch.nn.functional as F\n",
    "import matplotlib.pyplot as plt"
   ]
  },
  {
   "cell_type": "code",
   "execution_count": 2,
   "id": "polar-tenant",
   "metadata": {},
   "outputs": [],
   "source": [
    "corpus = [\n",
    "    'he is a king',\n",
    "    'she is a queen',\n",
    "    'she is a woman',\n",
    "    'he is a man',\n",
    "    'warsaw is poland capital',\n",
    "    'berlin is germany capital',\n",
    "    'paris is france capital',\n",
    "]"
   ]
  },
  {
   "cell_type": "markdown",
   "id": "standing-realtor",
   "metadata": {},
   "source": [
    "## split sentence into words"
   ]
  },
  {
   "cell_type": "code",
   "execution_count": 3,
   "id": "abandoned-water",
   "metadata": {},
   "outputs": [],
   "source": [
    "def tokenize_corpus(corpus):\n",
    "    tokens = [x.split() for x in corpus]\n",
    "    return tokens\n",
    "tokenized_corpus = tokenize_corpus(corpus)"
   ]
  },
  {
   "cell_type": "markdown",
   "id": "optional-renewal",
   "metadata": {},
   "source": [
    "## construct vocabulary"
   ]
  },
  {
   "cell_type": "code",
   "execution_count": 5,
   "id": "duplicate-citizen",
   "metadata": {},
   "outputs": [],
   "source": [
    "vocabulary = []\n",
    "for sentence in tokenized_corpus:\n",
    "    for token in sentence:\n",
    "        if token not in vocabulary:\n",
    "            vocabulary.append(token)\n",
    "\n",
    "word2ind = {w: idx for (idx, w) in enumerate(vocabulary)}\n",
    "idx2word = {idx: w for (idx, w) in enumerate(vocabulary)}\n",
    "\n",
    "vocabulary_size = len(vocabulary)"
   ]
  },
  {
   "cell_type": "markdown",
   "id": "prime-stanford",
   "metadata": {},
   "source": [
    "## sample (center_word, context_word) from corpus"
   ]
  },
  {
   "cell_type": "code",
   "execution_count": 8,
   "id": "turned-corporation",
   "metadata": {},
   "outputs": [],
   "source": [
    "window_size = 2\n",
    "idx_pairs = []\n",
    "for sentence in tokenized_corpus:\n",
    "    for i in range(len(sentence)):\n",
    "        center_word = sentence[i]\n",
    "        left = max(0, i-window_size)\n",
    "        right = min(len(sentence) - 1, i+window_size)\n",
    "        for j in range(left, right):\n",
    "            if j != i:\n",
    "                context_word = sentence[j]\n",
    "                idx_pairs.append((word2ind[center_word], word2ind[context_word]))\n",
    "\n",
    "idx_pairs = np.array(idx_pairs)"
   ]
  },
  {
   "cell_type": "markdown",
   "id": "stunning-racing",
   "metadata": {},
   "source": [
    "## Model & Target & Algorithm\n",
    "值得注意的是，我们在这次并没有为model独立设计一个类，所以需要在for epoch循环中，描述forward的过程，原范式如下：\n",
    "```\n",
    "model {\n",
    "    __init__()\n",
    "    forward()\n",
    "}\n",
    "\n",
    "m = model()\n",
    "\n",
    "for epo in num_epochs:\n",
    "    y_pred = m(x)\n",
    "    ...\n",
    "```\n",
    "新范式如下：\n",
    "```\n",
    "__init__() # parameter needs to be trained goes here.\n",
    "\n",
    "for epo in num_epochs:\n",
    "    y_pred = forward()\n",
    "    ...\n",
    "```"
   ]
  },
  {
   "cell_type": "code",
   "execution_count": 1,
   "id": "historical-victim",
   "metadata": {},
   "outputs": [],
   "source": [
    "def get_input_layer(word_idx):\n",
    "    \"\"\"\n",
    "        construct input tensor from data\n",
    "        torch的模型输入必须为tensor，所以在这里将word_idx转化为tensor\n",
    "    \"\"\"\n",
    "    x = torch.zeros(vocabulary_size).float()\n",
    "    x[word_idx] = 1.0\n",
    "    return x"
   ]
  },
  {
   "cell_type": "code",
   "execution_count": 2,
   "id": "analyzed-lindsay",
   "metadata": {},
   "outputs": [
    {
     "ename": "NameError",
     "evalue": "name 'vocabulary_size' is not defined",
     "output_type": "error",
     "traceback": [
      "\u001b[0;31m---------------------------------------------------------------------------\u001b[0m",
      "\u001b[0;31mNameError\u001b[0m                                 Traceback (most recent call last)",
      "\u001b[0;32m<ipython-input-2-7766ed950d1a>\u001b[0m in \u001b[0;36m<module>\u001b[0;34m\u001b[0m\n\u001b[1;32m      2\u001b[0m \u001b[0;34m\u001b[0m\u001b[0m\n\u001b[1;32m      3\u001b[0m \u001b[0;31m# model __init__\u001b[0m\u001b[0;34m\u001b[0m\u001b[0;34m\u001b[0m\u001b[0;34m\u001b[0m\u001b[0m\n\u001b[0;32m----> 4\u001b[0;31m \u001b[0mW1\u001b[0m \u001b[0;34m=\u001b[0m \u001b[0mtorch\u001b[0m\u001b[0;34m.\u001b[0m\u001b[0mrandn\u001b[0m\u001b[0;34m(\u001b[0m\u001b[0membedding_dims\u001b[0m\u001b[0;34m,\u001b[0m \u001b[0mvocabulary_size\u001b[0m\u001b[0;34m,\u001b[0m \u001b[0mrequires_grad\u001b[0m\u001b[0;34m=\u001b[0m\u001b[0;32mTrue\u001b[0m\u001b[0;34m)\u001b[0m\u001b[0;34m.\u001b[0m\u001b[0mfloat\u001b[0m\u001b[0;34m(\u001b[0m\u001b[0;34m)\u001b[0m\u001b[0;34m\u001b[0m\u001b[0;34m\u001b[0m\u001b[0m\n\u001b[0m\u001b[1;32m      5\u001b[0m \u001b[0mW2\u001b[0m \u001b[0;34m=\u001b[0m \u001b[0mtorch\u001b[0m\u001b[0;34m.\u001b[0m\u001b[0mrandn\u001b[0m\u001b[0;34m(\u001b[0m\u001b[0mvocabulary_size\u001b[0m\u001b[0;34m,\u001b[0m \u001b[0membedding_dims\u001b[0m\u001b[0;34m,\u001b[0m \u001b[0mrequires_grad\u001b[0m\u001b[0;34m=\u001b[0m\u001b[0;32mTrue\u001b[0m\u001b[0;34m)\u001b[0m\u001b[0;34m.\u001b[0m\u001b[0mfloat\u001b[0m\u001b[0;34m(\u001b[0m\u001b[0;34m)\u001b[0m\u001b[0;34m\u001b[0m\u001b[0;34m\u001b[0m\u001b[0m\n\u001b[1;32m      6\u001b[0m \u001b[0;34m\u001b[0m\u001b[0m\n",
      "\u001b[0;31mNameError\u001b[0m: name 'vocabulary_size' is not defined"
     ]
    }
   ],
   "source": [
    "embedding_dims = 5\n",
    "\n",
    "# model __init__\n",
    "W1 = torch.randn(embedding_dims, vocabulary_size, requires_grad=True).float() \n",
    "W2 = torch.randn(vocabulary_size, embedding_dims, requires_grad=True).float()\n",
    "\n",
    "# hyperparameter\n",
    "num_epochs = 101\n",
    "lr = 0.001\n",
    "\n",
    "for epo in range(num_epochs):\n",
    "    loss_val = 0\n",
    "    for data, target in idx_pairs:\n",
    "        x = get_input_layer(data).float()\n",
    "        y_true = torch.from_numpy(np.array([target]))\n",
    "        \n",
    "        # forward: z2 = model(x) <=> z2 = W2 * W1 * x\n",
    "        z1 = torch.matmul(W1, x)\n",
    "        z2 = torch.matmul(W2, z1)\n",
    "        \n",
    "        # compute loss\n",
    "        log_softmax = F.log_softmax(z2, dim=0)\n",
    "        loss = F.nll_loss(log_softmax.view(1, -1), y_true)\n",
    "        loss_val += loss.item()\n",
    "        \n",
    "        # backpropagation\n",
    "        loss.backward()\n",
    "        \n",
    "        # update parameter\n",
    "        W1.data -= lr * W1.grad.data\n",
    "        W2.data -= lr * W2.grad.data\n",
    "        \n",
    "        # zero grads\n",
    "        W1.grad.data.zero_()\n",
    "        W1.grad.data.zero_()\n",
    "        \n",
    "    if epo % 10 == 0:\n",
    "        print(f'Loss at epo {epo}: {loss_val/len(idx_pairs)}')"
   ]
  }
 ],
 "metadata": {
  "kernelspec": {
   "display_name": "cs224n",
   "language": "python",
   "name": "cs224n"
  },
  "language_info": {
   "codemirror_mode": {
    "name": "ipython",
    "version": 3
   },
   "file_extension": ".py",
   "mimetype": "text/x-python",
   "name": "python",
   "nbconvert_exporter": "python",
   "pygments_lexer": "ipython3",
   "version": "3.8.2"
  }
 },
 "nbformat": 4,
 "nbformat_minor": 5
}
