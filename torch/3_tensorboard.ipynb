{
 "cells": [
  {
   "cell_type": "code",
   "execution_count": 1,
   "id": "rubber-triple",
   "metadata": {},
   "outputs": [],
   "source": [
    "import numpy as np \n",
    "import matplotlib.pyplot as plt \n",
    "from tensorboardX import SummaryWriter"
   ]
  },
  {
   "cell_type": "markdown",
   "id": "cloudy-poetry",
   "metadata": {},
   "source": [
    "# Intro\n",
    "tensorboard是一个训练过程可视化解决方案，也是我们在AI训练中的常用调试工具\n",
    "\n",
    "在torch中通过tensorboardX使用tensorboard功\n",
    "\n",
    "tensortboard读取当前目录下的runs目录中的文件，获取数据，\n",
    "\n",
    "tensorboardX通过写入数据文件（默认到runs），方便tensorboard读取\n",
    "\n",
    "tensorboard支持scalar，histgram，image等可视化元素，我们在训练过程中将中间结果保存到runs，然后在tensorboard中观察与调试"
   ]
  },
  {
   "cell_type": "code",
   "execution_count": 3,
   "id": "worse-tractor",
   "metadata": {},
   "outputs": [],
   "source": [
    "max_epoch = 100\n",
    "writer = SummaryWriter(comment='test_comment', filename_suffix='test_suffix')\n",
    "\n",
    "for x in range(max_epoch):\n",
    "    writer.add_scalar('y=2x', x*2, x)\n",
    "    writer.add_scalars('data/scalar_group', {\"xsinx\": x*np.sin(x), \"xcosx\": x*np.cos(x)}, x)\n",
    "\n",
    "writer.close()"
   ]
  }
 ],
 "metadata": {
  "kernelspec": {
   "display_name": "cs224n",
   "language": "python",
   "name": "cs224n"
  },
  "language_info": {
   "codemirror_mode": {
    "name": "ipython",
    "version": 3
   },
   "file_extension": ".py",
   "mimetype": "text/x-python",
   "name": "python",
   "nbconvert_exporter": "python",
   "pygments_lexer": "ipython3",
   "version": "3.8.2"
  }
 },
 "nbformat": 4,
 "nbformat_minor": 5
}
