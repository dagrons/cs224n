{
 "cells": [
  {
   "cell_type": "code",
   "execution_count": 1,
   "id": "outer-mixture",
   "metadata": {},
   "outputs": [],
   "source": [
    "import numpy as np\n",
    "import torch\n",
    "import torch.nn as nn\n",
    "import torch.optim as optim\n",
    "import torch.nn.functional as F\n",
    "import matplotlib.pyplot as plt"
   ]
  },
  {
   "cell_type": "markdown",
   "id": "greater-fishing",
   "metadata": {},
   "source": [
    "注意，基本上torch和numpy是可以实现相互转换的，但torch相比于numpy更加耗费资源，而numpy相比于torch缺少了部分结构（创建它的信息之类的与计算图有关的信息）"
   ]
  },
  {
   "cell_type": "code",
   "execution_count": 30,
   "id": "conscious-spare",
   "metadata": {},
   "outputs": [],
   "source": [
    "corpus = [\n",
    "    'he is a king',\n",
    "    'she is a queen',\n",
    "    'she is a woman',\n",
    "    'he is a man',\n",
    "    'warsaw is poland capital',\n",
    "    'berlin is germany capital',\n",
    "    'paris is france capital',\n",
    "]"
   ]
  },
  {
   "cell_type": "markdown",
   "id": "industrial-fortune",
   "metadata": {},
   "source": [
    "# 构建共现矩阵"
   ]
  },
  {
   "cell_type": "code",
   "execution_count": 29,
   "id": "unusual-builder",
   "metadata": {},
   "outputs": [],
   "source": [
    "def construct_cocurrence_matrix(corpus):\n",
    "    window_size = 2\n",
    "    \n",
    "    word2ind = {}\n",
    "    ind2word = []\n",
    "    cocurrence_matrix = None\n",
    "    \n",
    "    idx = 0\n",
    "    vocabulary_size = 0\n",
    "    for sentence in corpus:\n",
    "        word_list = sentence.split()\n",
    "        for word in word_list:\n",
    "            if word not in word2ind:\n",
    "                word2ind[word] = idx\n",
    "                ind2word.append(word)\n",
    "                idx += 1\n",
    "    \n",
    "    vocabulary_size = idx\n",
    "    cocurrence_matrix = np.zeros((vocabulary_size, vocabulary_size))\n",
    "    \n",
    "    for sentence in corpus:\n",
    "        word_list = sentence.split()\n",
    "        for i in range(len(word_list)):\n",
    "            center_pos = i\n",
    "            left = max(0, i - window_size)\n",
    "            right = min(len(word_list)-1, i + window_size)\n",
    "            for j in range(left, right+1):\n",
    "                if j != center_pos:\n",
    "                    context_pos = j\n",
    "                    center_word = word_list[center_pos]\n",
    "                    context_word = word_list[context_pos]\n",
    "                    center_indices = word2ind[center_word]\n",
    "                    context_indices = word2ind[context_word]\n",
    "                    cocurrence_matrix[center_indices][context_indices] += 1\n",
    "                    \n",
    "    return cocurrence_matrix, word2ind, ind2word, vocabulary_size\n",
    "\n",
    "cocurrence_matrix, word2ind, ind2word, vocabulary_size = construct_cocurrence_matrix(corpus)\n",
    "X = torch.from_numpy(cocurrence_matrix)\n",
    "X += 1\n",
    "X = X.float()"
   ]
  },
  {
   "cell_type": "markdown",
   "id": "coral-wallet",
   "metadata": {},
   "source": [
    "# Model\n",
    "创建类的好处？\n",
    "\n",
    "0. 把所有与这个类有关的行为放在一个地方描述\n",
    "1. 可以和函数一样实现封装，即保证内部变量名不污染外部环境\n",
    "2. 除了变量封装，还能实现函数封装，即保证内部函数名不污染外部环境\n",
    "2. 可以实现接口，即继承自接口的类的实例能被其他与其配套的框架/库/工具识别，并自动调用/注册其中的方法，类似于plug-in的形式"
   ]
  },
  {
   "cell_type": "code",
   "execution_count": 4,
   "id": "adequate-positive",
   "metadata": {},
   "outputs": [],
   "source": [
    "class Glove(nn.Module):\n",
    "    def __init__(self, num_embeddings, embedding_dim):\n",
    "        \"\"\"\n",
    "            __init__为其他方法创建环境，每个实例独有，实例的方法共享\n",
    "        \"\"\"\n",
    "        super(Glove, self).__init__()\n",
    "        self.W1 = torch.randn(num_embeddings, embedding_dim, requires_grad=True)\n",
    "        self.W2 = torch.randn(num_embeddings, embedding_dim, requires_grad=True)\n",
    "        self.b1 = torch.zeros(num_embeddings, requires_grad=True)\n",
    "        self.b2 = torch.zeros(num_embeddings, requires_grad=True)\n",
    "    \n",
    "    def forward(self, i_indices, j_indices):\n",
    "        vi = self.W1[i_indices]\n",
    "        vj = self.W2[j_indices]\n",
    "        return torch.dot(vi, vj) + self.b1[i_indices] + self.b2[j_indices]\n",
    "\n",
    "k = 5\n",
    "glove = Glove(vocabulary_size, k)"
   ]
  },
  {
   "cell_type": "markdown",
   "id": "hispanic-uganda",
   "metadata": {},
   "source": [
    "# Target && Loss"
   ]
  },
  {
   "cell_type": "code",
   "execution_count": 17,
   "id": "careful-spider",
   "metadata": {},
   "outputs": [],
   "source": [
    "def wmse_loss(weights, inputs, targets):\n",
    "    return weights * (inputs - targets) ** 2"
   ]
  },
  {
   "cell_type": "code",
   "execution_count": 16,
   "id": "encouraging-citation",
   "metadata": {},
   "outputs": [],
   "source": [
    "def fX(x, xmax, alpha):\n",
    "    wx = (x/xmax)**alpha\n",
    "    return torch.min(wx, torch.ones_like(wx))"
   ]
  },
  {
   "cell_type": "markdown",
   "id": "alleged-means",
   "metadata": {},
   "source": [
    "loss为nan，是因为有的X[i][j]为0"
   ]
  },
  {
   "cell_type": "markdown",
   "id": "occupied-breathing",
   "metadata": {},
   "source": [
    "# Algorithm\n",
    "注意此处parameter和optimizer的用法"
   ]
  },
  {
   "cell_type": "code",
   "execution_count": 31,
   "id": "violent-committee",
   "metadata": {},
   "outputs": [
    {
     "name": "stdout",
     "output_type": "stream",
     "text": [
      "Epoch 0/100 \t Loss: 27.45143538976191\n",
      "Epoch 1/100 \t Loss: 6.787442711686888\n",
      "Epoch 2/100 \t Loss: 4.131574350320049\n",
      "Epoch 3/100 \t Loss: 2.6900749493057767\n",
      "Epoch 4/100 \t Loss: 3.6112865791638713\n",
      "Epoch 5/100 \t Loss: 7.548125914661945\n",
      "Epoch 6/100 \t Loss: 7.826589343379898\n",
      "Epoch 7/100 \t Loss: 4.724595339464822\n",
      "Epoch 8/100 \t Loss: 4.613131069447366\n",
      "Epoch 9/100 \t Loss: 8.288281412898261\n",
      "Epoch 10/100 \t Loss: 8.830672328534245\n",
      "Epoch 11/100 \t Loss: 5.323838644061658\n",
      "Epoch 12/100 \t Loss: 5.0749009580261895\n",
      "Epoch 13/100 \t Loss: 11.224934521575003\n",
      "Epoch 14/100 \t Loss: 17.84459366035441\n",
      "Epoch 15/100 \t Loss: 18.095419708843547\n",
      "Epoch 16/100 \t Loss: 11.849040387257126\n",
      "Epoch 17/100 \t Loss: 5.248747900756756\n",
      "Epoch 18/100 \t Loss: 4.373965485132228\n",
      "Epoch 19/100 \t Loss: 8.33141988950138\n",
      "Epoch 20/100 \t Loss: 11.937103026826971\n",
      "Epoch 21/100 \t Loss: 12.49887622668277\n",
      "Epoch 22/100 \t Loss: 10.545919555404037\n",
      "Epoch 23/100 \t Loss: 7.692361383533807\n",
      "Epoch 24/100 \t Loss: 5.594900504901996\n",
      "Epoch 25/100 \t Loss: 4.79993779468486\n",
      "Epoch 26/100 \t Loss: 4.5676231179298075\n",
      "Epoch 27/100 \t Loss: 4.304682184105335\n",
      "Epoch 28/100 \t Loss: 4.236615244806753\n",
      "Epoch 29/100 \t Loss: 4.334204231821968\n",
      "Epoch 30/100 \t Loss: 3.9503923224508433\n",
      "Epoch 31/100 \t Loss: 3.2167720194887357\n",
      "Epoch 32/100 \t Loss: 3.111175420632172\n",
      "Epoch 33/100 \t Loss: 3.8755487534686766\n",
      "Epoch 34/100 \t Loss: 4.835795587421553\n",
      "Epoch 35/100 \t Loss: 5.3028185686875595\n",
      "Epoch 36/100 \t Loss: 4.902935973511083\n",
      "Epoch 37/100 \t Loss: 3.7736411573452493\n",
      "Epoch 38/100 \t Loss: 2.7230349639905564\n",
      "Epoch 39/100 \t Loss: 2.419541555512394\n",
      "Epoch 40/100 \t Loss: 2.5267675613417806\n",
      "Epoch 41/100 \t Loss: 2.3051568840198136\n",
      "Epoch 42/100 \t Loss: 1.7669852056924893\n",
      "Epoch 43/100 \t Loss: 1.6155245922778563\n",
      "Epoch 44/100 \t Loss: 2.3034315582369453\n",
      "Epoch 45/100 \t Loss: 3.6789360323100717\n",
      "Epoch 46/100 \t Loss: 5.186098617624387\n",
      "Epoch 47/100 \t Loss: 5.903817986604759\n",
      "Epoch 48/100 \t Loss: 4.970230014447517\n",
      "Epoch 49/100 \t Loss: 2.7334055233964962\n",
      "Epoch 50/100 \t Loss: 1.013284469781377\n",
      "Epoch 51/100 \t Loss: 1.4363652812519918\n",
      "Epoch 52/100 \t Loss: 3.748022783956542\n",
      "Epoch 53/100 \t Loss: 6.156036999807979\n",
      "Epoch 54/100 \t Loss: 6.96439279698231\n",
      "Epoch 55/100 \t Loss: 5.725113435231949\n",
      "Epoch 56/100 \t Loss: 3.3623959748996044\n",
      "Epoch 57/100 \t Loss: 1.562340759626489\n",
      "Epoch 58/100 \t Loss: 1.731689486508623\n",
      "Epoch 59/100 \t Loss: 4.006007839388284\n",
      "Epoch 60/100 \t Loss: 7.0446344089931845\n",
      "Epoch 61/100 \t Loss: 8.95059925046378\n",
      "Epoch 62/100 \t Loss: 8.642435751459619\n",
      "Epoch 63/100 \t Loss: 6.522381398555159\n",
      "Epoch 64/100 \t Loss: 3.978549079079754\n",
      "Epoch 65/100 \t Loss: 2.3564087580458177\n",
      "Epoch 66/100 \t Loss: 2.2696132884352744\n",
      "Epoch 67/100 \t Loss: 3.4383237026848326\n",
      "Epoch 68/100 \t Loss: 4.9059209180742585\n",
      "Epoch 69/100 \t Loss: 5.593389788305726\n",
      "Epoch 70/100 \t Loss: 5.0390033879043346\n",
      "Epoch 71/100 \t Loss: 3.7251439982240937\n",
      "Epoch 72/100 \t Loss: 2.5694160998023117\n",
      "Epoch 73/100 \t Loss: 2.1033059402763272\n",
      "Epoch 74/100 \t Loss: 2.2208796174573004\n",
      "Epoch 75/100 \t Loss: 2.5660000692693714\n",
      "Epoch 76/100 \t Loss: 2.9298108218948005\n",
      "Epoch 77/100 \t Loss: 3.2909921695664486\n",
      "Epoch 78/100 \t Loss: 3.7090226964264397\n",
      "Epoch 79/100 \t Loss: 4.2584834398516564\n",
      "Epoch 80/100 \t Loss: 4.91419839782632\n",
      "Epoch 81/100 \t Loss: 5.407626374138581\n",
      "Epoch 82/100 \t Loss: 5.350763729381017\n",
      "Epoch 83/100 \t Loss: 4.635311987997649\n",
      "Epoch 84/100 \t Loss: 3.6183309635494467\n",
      "Epoch 85/100 \t Loss: 2.7890057970939854\n",
      "Epoch 86/100 \t Loss: 2.296079174703307\n",
      "Epoch 87/100 \t Loss: 1.9629413943198806\n",
      "Epoch 88/100 \t Loss: 1.7460699844606116\n",
      "Epoch 89/100 \t Loss: 1.9655907440408433\n",
      "Epoch 90/100 \t Loss: 2.948454254830181\n",
      "Epoch 91/100 \t Loss: 4.510279058322071\n",
      "Epoch 92/100 \t Loss: 5.940214134274318\n",
      "Epoch 93/100 \t Loss: 6.532214802703772\n",
      "Epoch 94/100 \t Loss: 6.090709364946084\n",
      "Epoch 95/100 \t Loss: 4.983598924649174\n",
      "Epoch 96/100 \t Loss: 3.83434570563618\n",
      "Epoch 97/100 \t Loss: 3.17315499188725\n",
      "Epoch 98/100 \t Loss: 3.192574898520545\n",
      "Epoch 99/100 \t Loss: 3.6599368944928963\n"
     ]
    }
   ],
   "source": [
    "NUM_EPOCHS = 100\n",
    "X_MAX = 100\n",
    "ALPHA = 0.75\n",
    "X = torch.from_numpy(cocurrence_matrix)\n",
    "loss_values = []\n",
    "lr = 0.05\n",
    "parameters = [glove.W1, glove.W2, glove.b1, glove.b2]\n",
    "optimizer = optim.Adagrad(parameters, lr=0.05)\n",
    "\n",
    "for epo in range(NUM_EPOCHS):\n",
    "    for i in range(vocabulary_size):\n",
    "        for j in range(vocabulary_size):\n",
    "            outputs = glove(i, j)\n",
    "            \n",
    "            weights = fX(X[i][j], X_MAX, ALPHA)\n",
    "            loss = wmse_loss(weights, outputs, torch.log(X[i][j]))\n",
    "            loss.backward()\n",
    "            \n",
    "            optimizer.step()\n",
    "            \n",
    "            loss_values.append(loss.item())\n",
    "            \n",
    "    print (\"Epoch {}/{} \\t Loss: {}\".format(epo, NUM_EPOCHS, np.mean(loss_values[-5:])))"
   ]
  },
  {
   "cell_type": "code",
   "execution_count": 32,
   "id": "headed-figure",
   "metadata": {},
   "outputs": [
    {
     "data": {
      "text/plain": [
       "[<matplotlib.lines.Line2D at 0x7f027dd979d0>]"
      ]
     },
     "execution_count": 32,
     "metadata": {},
     "output_type": "execute_result"
    },
    {
     "data": {
      "image/png": "[encoded data removed]",
      "text/plain": [
       "<Figure size 432x288 with 1 Axes>"
      ]
     },
     "metadata": {
      "needs_background": "light"
     },
     "output_type": "display_data"
    }
   ],
   "source": [
    "plt.plot(loss_values)"
   ]
  }
 ],
 "metadata": {
  "kernelspec": {
   "display_name": "cs224n",
   "language": "python",
   "name": "cs224n"
  },
  "language_info": {
   "codemirror_mode": {
    "name": "ipython",
    "version": 3
   },
   "file_extension": ".py",
   "mimetype": "text/x-python",
   "name": "python",
   "nbconvert_exporter": "python",
   "pygments_lexer": "ipython3",
   "version": "3.8.2"
  }
 },
 "nbformat": 4,
 "nbformat_minor": 5
}
